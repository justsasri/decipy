{
 "cells": [
  {
   "cell_type": "markdown",
   "metadata": {},
   "source": [
    "# MCDM Tutorial\n",
    "By: Rizki Sasri Dwitama"
   ]
  },
  {
   "cell_type": "code",
   "execution_count": 1,
   "metadata": {
    "scrolled": true
   },
   "outputs": [
    {
     "data": {
      "text/plain": [
       "'Simulation complete ...'"
      ]
     },
     "execution_count": 1,
     "metadata": {},
     "output_type": "execute_result"
    }
   ],
   "source": [
    "import pandas as pd\n",
    "import scipy.stats as sps\n",
    "import numpy as np\n",
    "import decipy.executors as exe\n",
    "        \n",
    "matrix = exe.DataMatrix('D:\\Gudang_Garam_salesman_data_2019.csv')\n",
    "beneficial = [True, True, True, True, True, True, True, True, True, True, True, True, True, True]\n",
    "weights = [0.05, 0.08, 0.08, 0.08, 0.09, 0.08, 0.08, 0.08, 0.06, 0.05, 0.05, 0.05, 0.08, 0.09]\n",
    "\n",
    "simulator = exe.RankSimulator(matrix, beneficial, weights, [exe.Topsis, exe.WSM, exe.WPM], events=100, trials=10)\n",
    "simulator.run()"
   ]
  },
  {
   "cell_type": "code",
   "execution_count": 5,
   "metadata": {},
   "outputs": [
    {
     "data": {
      "text/html": [
       "<div>\n",
       "<style scoped>\n",
       "    .dataframe tbody tr th:only-of-type {\n",
       "        vertical-align: middle;\n",
       "    }\n",
       "\n",
       "    .dataframe tbody tr th {\n",
       "        vertical-align: top;\n",
       "    }\n",
       "\n",
       "    .dataframe thead th {\n",
       "        text-align: right;\n",
       "    }\n",
       "</style>\n",
       "<table border=\"1\" class=\"dataframe\">\n",
       "  <thead>\n",
       "    <tr style=\"text-align: right;\">\n",
       "      <th></th>\n",
       "      <th>10</th>\n",
       "      <th>20</th>\n",
       "      <th>30</th>\n",
       "      <th>40</th>\n",
       "      <th>50</th>\n",
       "      <th>60</th>\n",
       "      <th>70</th>\n",
       "      <th>80</th>\n",
       "      <th>90</th>\n",
       "      <th>100</th>\n",
       "    </tr>\n",
       "  </thead>\n",
       "  <tbody>\n",
       "    <tr>\n",
       "      <th>Topsis</th>\n",
       "      <td>0.2</td>\n",
       "      <td>0.20</td>\n",
       "      <td>0.300</td>\n",
       "      <td>0.300</td>\n",
       "      <td>0.30</td>\n",
       "      <td>0.317</td>\n",
       "      <td>0.357</td>\n",
       "      <td>0.375</td>\n",
       "      <td>0.389</td>\n",
       "      <td>0.40</td>\n",
       "    </tr>\n",
       "    <tr>\n",
       "      <th>WSM</th>\n",
       "      <td>0.5</td>\n",
       "      <td>0.45</td>\n",
       "      <td>0.333</td>\n",
       "      <td>0.275</td>\n",
       "      <td>0.26</td>\n",
       "      <td>0.283</td>\n",
       "      <td>0.271</td>\n",
       "      <td>0.275</td>\n",
       "      <td>0.267</td>\n",
       "      <td>0.26</td>\n",
       "    </tr>\n",
       "    <tr>\n",
       "      <th>WPM</th>\n",
       "      <td>0.3</td>\n",
       "      <td>0.35</td>\n",
       "      <td>0.367</td>\n",
       "      <td>0.425</td>\n",
       "      <td>0.44</td>\n",
       "      <td>0.400</td>\n",
       "      <td>0.371</td>\n",
       "      <td>0.350</td>\n",
       "      <td>0.344</td>\n",
       "      <td>0.34</td>\n",
       "    </tr>\n",
       "  </tbody>\n",
       "</table>\n",
       "</div>"
      ],
      "text/plain": [
       "        10    20     30     40    50     60     70     80     90    100\n",
       "Topsis  0.2  0.20  0.300  0.300  0.30  0.317  0.357  0.375  0.389  0.40\n",
       "WSM     0.5  0.45  0.333  0.275  0.26  0.283  0.271  0.275  0.267  0.26\n",
       "WPM     0.3  0.35  0.367  0.425  0.44  0.400  0.371  0.350  0.344  0.34"
      ]
     },
     "execution_count": 5,
     "metadata": {},
     "output_type": "execute_result"
    }
   ],
   "source": [
    "simulator.get_top_rank_probabilities().round(3)"
   ]
  },
  {
   "cell_type": "code",
   "execution_count": 2,
   "metadata": {
    "scrolled": false
   },
   "outputs": [
    {
     "name": "stdout",
     "output_type": "stream",
     "text": [
      "Help on class RankSimulator in module decipy.executors:\n",
      "\n",
      "class RankSimulator(builtins.object)\n",
      " |  RankSimulator(matrix, beneficial, weights, executor_classes, events=1000, trials=100, rank_reverse=True, rank_method='ordinal')\n",
      " |  \n",
      " |  Methods defined here:\n",
      " |  \n",
      " |  __init__(self, matrix, beneficial, weights, executor_classes, events=1000, trials=100, rank_reverse=True, rank_method='ordinal')\n",
      " |      Initialize self.  See help(type(self)) for accurate signature.\n",
      " |  \n",
      " |  get_event_index(self)\n",
      " |  \n",
      " |  get_event_ranks(self)\n",
      " |  \n",
      " |  get_executors(self)\n",
      " |  \n",
      " |  get_global_similarity_index(self)\n",
      " |  \n",
      " |  get_steps(self)\n",
      " |  \n",
      " |  get_top_rank_probabilities(self)\n",
      " |  \n",
      " |  get_top_ranks(self)\n",
      " |  \n",
      " |  get_top_similarity_index(self)\n",
      " |  \n",
      " |  run(self)\n",
      " |  \n",
      " |  run_analizer(self)\n",
      " |  \n",
      " |  ----------------------------------------------------------------------\n",
      " |  Data descriptors defined here:\n",
      " |  \n",
      " |  __dict__\n",
      " |      dictionary for instance variables (if defined)\n",
      " |  \n",
      " |  __weakref__\n",
      " |      list of weak references to the object (if defined)\n",
      " |  \n",
      " |  ----------------------------------------------------------------------\n",
      " |  Data and other attributes defined here:\n",
      " |  \n",
      " |  analizer_class = <class 'decipy.executors.RankSimilarityAnalyzer'>\n",
      "\n"
     ]
    }
   ],
   "source": [
    "help(exe.RankSimulator)"
   ]
  }
 ],
 "metadata": {
  "kernelspec": {
   "display_name": "Python 3.8.2 32-bit ('decipy': pipenv)",
   "language": "python",
   "name": "python38232bitdecipypipenv30e91049dd5d4a1dab167ceab91a6d37"
  },
  "language_info": {
   "codemirror_mode": {
    "name": "ipython",
    "version": 3
   },
   "file_extension": ".py",
   "mimetype": "text/x-python",
   "name": "python",
   "nbconvert_exporter": "python",
   "pygments_lexer": "ipython3",
   "version": "3.8.2"
  }
 },
 "nbformat": 4,
 "nbformat_minor": 4
}
