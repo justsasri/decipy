{
 "cells": [
  {
   "cell_type": "code",
   "execution_count": null,
   "metadata": {},
   "outputs": [],
   "source": []
  },
  {
   "cell_type": "code",
   "execution_count": 81,
   "metadata": {},
   "outputs": [
    {
     "data": {
      "text/html": [
       "<div>\n",
       "<style scoped>\n",
       "    .dataframe tbody tr th:only-of-type {\n",
       "        vertical-align: middle;\n",
       "    }\n",
       "\n",
       "    .dataframe tbody tr th {\n",
       "        vertical-align: top;\n",
       "    }\n",
       "\n",
       "    .dataframe thead th {\n",
       "        text-align: right;\n",
       "    }\n",
       "</style>\n",
       "<table border=\"1\" class=\"dataframe\">\n",
       "  <thead>\n",
       "    <tr style=\"text-align: right;\">\n",
       "      <th></th>\n",
       "      <th>WSM</th>\n",
       "      <th>WPM</th>\n",
       "      <th>Moora</th>\n",
       "      <th>Topsis</th>\n",
       "      <th>Vikor</th>\n",
       "    </tr>\n",
       "  </thead>\n",
       "  <tbody>\n",
       "    <tr>\n",
       "      <th>A1</th>\n",
       "      <td>1.0</td>\n",
       "      <td>1.0</td>\n",
       "      <td>1.0</td>\n",
       "      <td>1.0</td>\n",
       "      <td>1.0</td>\n",
       "    </tr>\n",
       "    <tr>\n",
       "      <th>A2</th>\n",
       "      <td>3.0</td>\n",
       "      <td>3.0</td>\n",
       "      <td>3.0</td>\n",
       "      <td>3.0</td>\n",
       "      <td>3.0</td>\n",
       "    </tr>\n",
       "    <tr>\n",
       "      <th>A3</th>\n",
       "      <td>2.0</td>\n",
       "      <td>2.0</td>\n",
       "      <td>2.0</td>\n",
       "      <td>2.0</td>\n",
       "      <td>2.0</td>\n",
       "    </tr>\n",
       "  </tbody>\n",
       "</table>\n",
       "</div>"
      ],
      "text/plain": [
       "    WSM  WPM  Moora  Topsis  Vikor\n",
       "A1  1.0  1.0    1.0     1.0    1.0\n",
       "A2  3.0  3.0    3.0     3.0    3.0\n",
       "A3  2.0  2.0    2.0     2.0    2.0"
      ]
     },
     "execution_count": 81,
     "metadata": {},
     "output_type": "execute_result"
    }
   ],
   "source": [
    "import pandas as pd\n",
    "import numpy as np\n",
    "import decipy.executors as exe\n",
    "\n",
    "matrix = np.array([\n",
    "    [4, 3, 2, 4],\n",
    "    [5, 4, 3, 7],\n",
    "    [6, 5, 5, 3],\n",
    "])\n",
    "alts = ['A1', 'A2', 'A3']\n",
    "crits = ['C1', 'C2', 'C3', 'C4']\n",
    "beneficial = [True, True, True, True]\n",
    "weights = [0.10, 0.20, 0.30, 0.40]\n",
    "xij = pd.DataFrame(matrix, index=alts, columns=crits)\n",
    "\n",
    "kwargs = {\n",
    "    'data': xij,\n",
    "    'beneficial': beneficial,\n",
    "    'weights': weights,\n",
    "    'rank_reverse': False,\n",
    "    'rank_method': \"ordinal\"\n",
    "}\n",
    "wsm = exe.WSM(**kwargs)\n",
    "wpm = exe.WPM(**kwargs)\n",
    "moora = exe.Moora(**kwargs)\n",
    "topsis = exe.Topsis(**kwargs)\n",
    "vikor = exe.Vikor(**kwargs)\n",
    "\n",
    "analizer = exe.RankSimilarityAnalyzer()\n",
    "analizer.add_executor(wsm)\n",
    "analizer.add_executor(wpm)\n",
    "analizer.add_executor(moora)\n",
    "analizer.add_executor(topsis)\n",
    "analizer.add_executor(vikor)\n",
    "\n",
    "results = analizer.analyze()\n",
    "\n",
    "analizer.get_ranks_dataframe()"
   ]
  },
  {
   "cell_type": "code",
   "execution_count": 84,
   "metadata": {},
   "outputs": [
    {
     "data": {
      "text/html": [
       "<div>\n",
       "<style scoped>\n",
       "    .dataframe tbody tr th:only-of-type {\n",
       "        vertical-align: middle;\n",
       "    }\n",
       "\n",
       "    .dataframe tbody tr th {\n",
       "        vertical-align: top;\n",
       "    }\n",
       "\n",
       "    .dataframe thead th {\n",
       "        text-align: right;\n",
       "    }\n",
       "</style>\n",
       "<table border=\"1\" class=\"dataframe\">\n",
       "  <thead>\n",
       "    <tr style=\"text-align: right;\">\n",
       "      <th></th>\n",
       "      <th>C1</th>\n",
       "      <th>C2</th>\n",
       "      <th>C3</th>\n",
       "      <th>C4</th>\n",
       "    </tr>\n",
       "  </thead>\n",
       "  <tbody>\n",
       "    <tr>\n",
       "      <th>A1</th>\n",
       "      <td>0.0</td>\n",
       "      <td>0.0</td>\n",
       "      <td>0.0000</td>\n",
       "      <td>0.25</td>\n",
       "    </tr>\n",
       "    <tr>\n",
       "      <th>A2</th>\n",
       "      <td>0.5</td>\n",
       "      <td>0.5</td>\n",
       "      <td>0.3333</td>\n",
       "      <td>1.00</td>\n",
       "    </tr>\n",
       "    <tr>\n",
       "      <th>A3</th>\n",
       "      <td>1.0</td>\n",
       "      <td>1.0</td>\n",
       "      <td>1.0000</td>\n",
       "      <td>0.00</td>\n",
       "    </tr>\n",
       "  </tbody>\n",
       "</table>\n",
       "</div>"
      ],
      "text/plain": [
       "     C1   C2      C3    C4\n",
       "A1  0.0  0.0  0.0000  0.25\n",
       "A2  0.5  0.5  0.3333  1.00\n",
       "A3  1.0  1.0  1.0000  0.00"
      ]
     },
     "execution_count": 84,
     "metadata": {},
     "output_type": "execute_result"
    }
   ],
   "source": [
    "wsm_kwargs = {\n",
    "    'data': rank_matrix,\n",
    "    'beneficial': [True, True, True, True],\n",
    "    'weights': [ round(x/sum(a), 3) for x in results],\n",
    "    'rank_reverse': True,\n",
    "    'rank_method': \"ordinal\"\n",
    "}\n",
    "wsm = exe.WSM(**kwargs)\n",
    "wsm.get_normalized()"
   ]
  },
  {
   "cell_type": "code",
   "execution_count": 85,
   "metadata": {
    "scrolled": false
   },
   "outputs": [
    {
     "data": {
      "text/html": [
       "<div>\n",
       "<style scoped>\n",
       "    .dataframe tbody tr th:only-of-type {\n",
       "        vertical-align: middle;\n",
       "    }\n",
       "\n",
       "    .dataframe tbody tr th {\n",
       "        vertical-align: top;\n",
       "    }\n",
       "\n",
       "    .dataframe thead th {\n",
       "        text-align: right;\n",
       "    }\n",
       "</style>\n",
       "<table border=\"1\" class=\"dataframe\">\n",
       "  <thead>\n",
       "    <tr style=\"text-align: right;\">\n",
       "      <th></th>\n",
       "      <th>RATE</th>\n",
       "      <th>RANK</th>\n",
       "    </tr>\n",
       "  </thead>\n",
       "  <tbody>\n",
       "    <tr>\n",
       "      <th>A1</th>\n",
       "      <td>0.10</td>\n",
       "      <td>1.0</td>\n",
       "    </tr>\n",
       "    <tr>\n",
       "      <th>A2</th>\n",
       "      <td>0.65</td>\n",
       "      <td>3.0</td>\n",
       "    </tr>\n",
       "    <tr>\n",
       "      <th>A3</th>\n",
       "      <td>0.60</td>\n",
       "      <td>2.0</td>\n",
       "    </tr>\n",
       "  </tbody>\n",
       "</table>\n",
       "</div>"
      ],
      "text/plain": [
       "    RATE  RANK\n",
       "A1  0.10   1.0\n",
       "A2  0.65   3.0\n",
       "A3  0.60   2.0"
      ]
     },
     "execution_count": 85,
     "metadata": {},
     "output_type": "execute_result"
    }
   ],
   "source": [
    "wsm.dataframe"
   ]
  }
 ],
 "metadata": {
  "kernelspec": {
   "display_name": "Python 3.8.2 32-bit ('decipy': pipenv)",
   "language": "python",
   "name": "python38232bitdecipypipenv30e91049dd5d4a1dab167ceab91a6d37"
  },
  "language_info": {
   "codemirror_mode": {
    "name": "ipython",
    "version": 3
   },
   "file_extension": ".py",
   "mimetype": "text/x-python",
   "name": "python",
   "nbconvert_exporter": "python",
   "pygments_lexer": "ipython3",
   "version": "3.8.2"
  }
 },
 "nbformat": 4,
 "nbformat_minor": 4
}
